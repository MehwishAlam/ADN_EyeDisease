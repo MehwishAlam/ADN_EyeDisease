{
  "cells": [
    {
      "cell_type": "code",
      "source": [
        "from google.colab import drive\n",
        "drive.mount('/content/drive')"
      ],
      "metadata": {
        "colab": {
          "base_uri": "https://localhost:8080/"
        },
        "id": "TSi9qe2YHGtp",
        "outputId": "abd7e7bb-cd13-44ef-fa5e-7a348072822c"
      },
      "id": "TSi9qe2YHGtp",
      "execution_count": null,
      "outputs": [
        {
          "output_type": "stream",
          "name": "stdout",
          "text": [
            "Mounted at /content/drive\n"
          ]
        }
      ]
    },
    {
      "cell_type": "code",
      "source": [
        "!pip install keras"
      ],
      "metadata": {
        "colab": {
          "base_uri": "https://localhost:8080/"
        },
        "id": "SOT0bMu3HnvR",
        "outputId": "1d16492f-97c9-4313-9efb-d0648def776f"
      },
      "id": "SOT0bMu3HnvR",
      "execution_count": null,
      "outputs": [
        {
          "output_type": "stream",
          "name": "stdout",
          "text": [
            "Requirement already satisfied: keras in /usr/local/lib/python3.10/dist-packages (3.4.1)\n",
            "Requirement already satisfied: absl-py in /usr/local/lib/python3.10/dist-packages (from keras) (1.4.0)\n",
            "Requirement already satisfied: numpy in /usr/local/lib/python3.10/dist-packages (from keras) (1.26.4)\n",
            "Requirement already satisfied: rich in /usr/local/lib/python3.10/dist-packages (from keras) (13.7.1)\n",
            "Requirement already satisfied: namex in /usr/local/lib/python3.10/dist-packages (from keras) (0.0.8)\n",
            "Requirement already satisfied: h5py in /usr/local/lib/python3.10/dist-packages (from keras) (3.11.0)\n",
            "Requirement already satisfied: optree in /usr/local/lib/python3.10/dist-packages (from keras) (0.12.1)\n",
            "Requirement already satisfied: ml-dtypes in /usr/local/lib/python3.10/dist-packages (from keras) (0.4.0)\n",
            "Requirement already satisfied: packaging in /usr/local/lib/python3.10/dist-packages (from keras) (24.1)\n",
            "Requirement already satisfied: typing-extensions>=4.5.0 in /usr/local/lib/python3.10/dist-packages (from optree->keras) (4.12.2)\n",
            "Requirement already satisfied: markdown-it-py>=2.2.0 in /usr/local/lib/python3.10/dist-packages (from rich->keras) (3.0.0)\n",
            "Requirement already satisfied: pygments<3.0.0,>=2.13.0 in /usr/local/lib/python3.10/dist-packages (from rich->keras) (2.16.1)\n",
            "Requirement already satisfied: mdurl~=0.1 in /usr/local/lib/python3.10/dist-packages (from markdown-it-py>=2.2.0->rich->keras) (0.1.2)\n"
          ]
        }
      ]
    },
    {
      "cell_type": "code",
      "execution_count": null,
      "id": "2327f57a",
      "metadata": {
        "id": "2327f57a"
      },
      "outputs": [],
      "source": [
        "import os,cv2\n",
        "import matplotlib.pyplot as plt\n",
        "\n",
        "from sklearn.utils import shuffle\n",
        "from sklearn.model_selection import train_test_split\n",
        "\n",
        "from keras import backend as K\n",
        "\n",
        "K.image_data_format()=='th'\n",
        "# from keras.layers import Merge\n",
        "from keras.layers import Concatenate\n",
        "# from keras.utils import np_utils\n",
        "from keras.layers import LSTM\n",
        "from tensorflow.keras.optimizers import Adam, RMSprop, SGD\n",
        "import glob\n",
        "import numpy as np\n",
        "import pandas as pd\n",
        "import tensorflow as tf\n",
        "from tensorflow.keras.preprocessing.image import ImageDataGenerator\n",
        "from tensorflow.keras.models import Sequential\n",
        "from tensorflow.keras.layers import Dense, Conv2D, MaxPooling2D, Flatten, Dropout"
      ]
    },
    {
      "cell_type": "code",
      "execution_count": null,
      "id": "63da2cf1",
      "metadata": {
        "id": "63da2cf1"
      },
      "outputs": [],
      "source": [
        "ATH = os.getcwd()\n",
        "# Define data path\n",
        "data_path = r'/content/drive/MyDrive/Projects/ADN eyedataset/ADN eye dataset - Copy'\n",
        "\n",
        "data_dir_list = os.listdir(data_path)\n",
        "img_rows=128\n",
        "img_cols=128\n",
        "num_channel=1\n",
        "num_epoch=20\n",
        "no_images=0\n",
        "\n",
        "for dataset in data_dir_list:\n",
        "    img_list = os.listdir(data_path + '/' + dataset)\n",
        "    no_images = no_images+len(img_list)\n",
        "\n",
        "# Define the number of classes\n",
        "labels = np.ones((no_images,),dtype='int64')\n",
        "num_classes = 3\n",
        "label_index=0\n",
        "img_data_list=[]\n",
        "img=0"
      ]
    },
    {
      "cell_type": "code",
      "execution_count": null,
      "id": "7f5656a3",
      "metadata": {
        "id": "7f5656a3",
        "outputId": "bdb626b8-8c48-453f-997d-cabdef440056"
      },
      "outputs": [
        {
          "name": "stdout",
          "output_type": "stream",
          "text": [
            "Loaded the images of dataset-AMD1\n",
            "\n",
            "Loaded the images of dataset-AMD10\n",
            "\n",
            "Loaded the images of dataset-AMD11\n",
            "\n",
            "Loaded the images of dataset-AMD12\n",
            "\n",
            "Loaded the images of dataset-AMD13\n",
            "\n",
            "Loaded the images of dataset-AMD14\n",
            "\n",
            "Loaded the images of dataset-AMD15\n",
            "\n",
            "Loaded the images of dataset-AMD2\n",
            "\n",
            "Loaded the images of dataset-AMD3\n",
            "\n",
            "Loaded the images of dataset-AMD4\n",
            "\n",
            "Loaded the images of dataset-AMD5\n",
            "\n",
            "Loaded the images of dataset-AMD6\n",
            "\n",
            "Loaded the images of dataset-AMD7\n",
            "\n",
            "Loaded the images of dataset-AMD8\n",
            "\n",
            "Loaded the images of dataset-AMD9\n",
            "\n",
            "Loaded the images of dataset-DME1\n",
            "\n",
            "Loaded the images of dataset-DME10\n",
            "\n",
            "Loaded the images of dataset-DME11\n",
            "\n",
            "Loaded the images of dataset-DME12\n",
            "\n",
            "Loaded the images of dataset-DME13\n",
            "\n",
            "Loaded the images of dataset-DME14\n",
            "\n",
            "Loaded the images of dataset-DME15\n",
            "\n",
            "Loaded the images of dataset-DME2\n",
            "\n",
            "Loaded the images of dataset-DME3\n",
            "\n",
            "Loaded the images of dataset-DME4\n",
            "\n",
            "Loaded the images of dataset-DME5\n",
            "\n",
            "Loaded the images of dataset-DME6\n",
            "\n",
            "Loaded the images of dataset-DME7\n",
            "\n",
            "Loaded the images of dataset-DME8\n",
            "\n",
            "Loaded the images of dataset-DME9\n",
            "\n",
            "Loaded the images of dataset-NORMAL1\n",
            "\n",
            "Loaded the images of dataset-NORMAL10\n",
            "\n",
            "Loaded the images of dataset-NORMAL11\n",
            "\n",
            "Loaded the images of dataset-NORMAL12\n",
            "\n",
            "Loaded the images of dataset-NORMAL13\n",
            "\n",
            "Loaded the images of dataset-NORMAL14\n",
            "\n",
            "Loaded the images of dataset-NORMAL15\n",
            "\n",
            "Loaded the images of dataset-NORMAL2\n",
            "\n",
            "Loaded the images of dataset-NORMAL3\n",
            "\n",
            "Loaded the images of dataset-NORMAL4\n",
            "\n",
            "Loaded the images of dataset-NORMAL5\n",
            "\n",
            "Loaded the images of dataset-NORMAL6\n",
            "\n",
            "Loaded the images of dataset-NORMAL7\n",
            "\n",
            "Loaded the images of dataset-NORMAL8\n",
            "\n",
            "Loaded the images of dataset-NORMAL9\n",
            "\n"
          ]
        }
      ],
      "source": [
        "for dataset in data_dir_list:\n",
        "    img_list=os.listdir(data_path+'/'+ dataset)\n",
        "    print ('Loaded the images of dataset-'+'{}\\n'.format(dataset))\n",
        "    for img in img_list:\n",
        "        input_img=cv2.imread(data_path + '/'+ dataset + '/'+ img)\n",
        "        input_img=cv2.cvtColor(input_img, cv2.COLOR_BGR2GRAY)\n",
        "        input_img_resize=cv2.resize(input_img,(128,128))\n",
        "        img_data_list.append(input_img_resize)\n",
        "        if dataset[0]==  'A':\n",
        "            labels[label_index]=  0\n",
        "            #print(dataset[0])\n",
        "        if dataset[0] == 'D':\n",
        "            labels[label_index] = 1\n",
        "            #print(dataset[0])\n",
        "        if dataset[0] == 'N':\n",
        "            labels[label_index] = 2\n",
        "        label_index = label_index+1\n",
        "            #print(dataset[0])\n"
      ]
    },
    {
      "cell_type": "code",
      "execution_count": null,
      "id": "e5a49b10",
      "metadata": {
        "id": "e5a49b10",
        "outputId": "320e8182-3a94-4b68-f340-33693513d943"
      },
      "outputs": [
        {
          "name": "stdout",
          "output_type": "stream",
          "text": [
            "(3231, 128, 128)\n",
            "(3231, 128, 128, 1)\n"
          ]
        }
      ],
      "source": [
        "img_data = np.array(img_data_list)\n",
        "img_data = img_data.astype('float32')\n",
        "img_data /= 255\n",
        "print (img_data.shape)\n",
        "\n",
        "# Using 'th' for the image_dim_ordering we get accuracy >=0.99 .\n",
        "# Using 'tf' for the dim order I get accuracy >= 0.9 but on more epochs\n",
        "if num_channel==1:\n",
        "    if K.image_data_format()=='channels_first':\n",
        "        img_data= np.expand_dims(img_data, axis=1)\n",
        "        print (img_data.shape)\n",
        "    else:\n",
        "        img_data= np.expand_dims(img_data, axis=3)\n",
        "        print (img_data.shape)\n",
        "\n",
        "else:\n",
        "    if K.image_data_format()=='channels_first':\n",
        "        img_data=np.rollaxis(img_data,3,1)\n",
        "        print (img_data.shape)"
      ]
    },
    {
      "cell_type": "code",
      "execution_count": null,
      "id": "4d6acd6c",
      "metadata": {
        "id": "4d6acd6c"
      },
      "outputs": [],
      "source": [
        "labels[0:722] = 0\n",
        "labels[723:1823] = 1\n",
        "labels[1824:3231] = 2"
      ]
    },
    {
      "cell_type": "code",
      "execution_count": null,
      "id": "96de358d",
      "metadata": {
        "id": "96de358d",
        "outputId": "9e419cb8-4d72-46a1-95a2-016f9522e10e"
      },
      "outputs": [
        {
          "name": "stdout",
          "output_type": "stream",
          "text": [
            "(2584, 128, 128, 1)\n",
            "(2584, 3)\n"
          ]
        }
      ],
      "source": [
        "# Define the number of classes\n",
        "num_classes = 3\n",
        "\n",
        "names = ['AMD','DME','NORMAL']\n",
        "\n",
        "# convert class labels to on-hot encoding\n",
        "Y = np_utils.to_categorical(labels, num_classes)\n",
        "#print(Y)\n",
        "#Shuffle the dataset with random state=2\n",
        "x,y = shuffle(img_data, Y,random_state=2)\n",
        "#print(y)\n",
        "# Split the dataset with 20% testing data\n",
        "X_train, X_test, y_train, y_test = train_test_split(x,y, test_size= 0.2, random_state=42)\n",
        "#print(y_test)\n",
        "print(X_train.shape)\n",
        "print(y_train.shape)"
      ]
    },
    {
      "cell_type": "code",
      "execution_count": null,
      "id": "eaa6b94e",
      "metadata": {
        "id": "eaa6b94e"
      },
      "outputs": [],
      "source": [
        "ann_model = Sequential([\n",
        "    Flatten(input_shape=(128,128,1)),Dense(128,activation = 'relu'),\n",
        "    Dropout(0.2), Dense(64,activation = 'relu'),Dropout(0.2),Dense(3,activation = 'softmax')])"
      ]
    },
    {
      "cell_type": "code",
      "execution_count": null,
      "id": "aed59892",
      "metadata": {
        "id": "aed59892",
        "outputId": "7acc8e3c-953c-4bb7-ba5e-f86b4be25d0e"
      },
      "outputs": [
        {
          "name": "stdout",
          "output_type": "stream",
          "text": [
            "Epoch 1/40\n",
            "130/130 [==============================] - 8s 49ms/step - loss: 1.1599 - accuracy: 0.5743 - val_loss: 0.6017 - val_accuracy: 0.7253\n",
            "Epoch 2/40\n",
            "130/130 [==============================] - 6s 46ms/step - loss: 0.6877 - accuracy: 0.7025 - val_loss: 0.5240 - val_accuracy: 0.7795\n",
            "Epoch 3/40\n",
            "130/130 [==============================] - 5s 41ms/step - loss: 0.5606 - accuracy: 0.7600 - val_loss: 0.5758 - val_accuracy: 0.7408\n",
            "Epoch 4/40\n",
            "130/130 [==============================] - 5s 35ms/step - loss: 0.5908 - accuracy: 0.7339 - val_loss: 0.3641 - val_accuracy: 0.8433\n",
            "Epoch 5/40\n",
            "130/130 [==============================] - 5s 40ms/step - loss: 0.3865 - accuracy: 0.8423 - val_loss: 0.2393 - val_accuracy: 0.9284\n",
            "Epoch 6/40\n",
            "130/130 [==============================] - 5s 38ms/step - loss: 0.3394 - accuracy: 0.8582 - val_loss: 0.1829 - val_accuracy: 0.9574\n",
            "Epoch 7/40\n",
            "130/130 [==============================] - 5s 39ms/step - loss: 0.3092 - accuracy: 0.8655 - val_loss: 0.1909 - val_accuracy: 0.9497\n",
            "Epoch 8/40\n",
            "130/130 [==============================] - 6s 48ms/step - loss: 0.2970 - accuracy: 0.8650 - val_loss: 0.1563 - val_accuracy: 0.9632\n",
            "Epoch 9/40\n",
            "130/130 [==============================] - 6s 45ms/step - loss: 0.2492 - accuracy: 0.8902 - val_loss: 0.1543 - val_accuracy: 0.9594\n",
            "Epoch 10/40\n",
            "130/130 [==============================] - 6s 46ms/step - loss: 0.2453 - accuracy: 0.8940 - val_loss: 0.2063 - val_accuracy: 0.9130\n",
            "Epoch 11/40\n",
            "130/130 [==============================] - 5s 41ms/step - loss: 0.2262 - accuracy: 0.9057 - val_loss: 0.1405 - val_accuracy: 0.9613\n",
            "Epoch 12/40\n",
            "130/130 [==============================] - 5s 37ms/step - loss: 0.2255 - accuracy: 0.9057 - val_loss: 0.0952 - val_accuracy: 0.9691\n",
            "Epoch 13/40\n",
            "130/130 [==============================] - 5s 40ms/step - loss: 0.1662 - accuracy: 0.9361 - val_loss: 0.0926 - val_accuracy: 0.9768\n",
            "Epoch 14/40\n",
            "130/130 [==============================] - 6s 43ms/step - loss: 0.1844 - accuracy: 0.9202 - val_loss: 0.1117 - val_accuracy: 0.9691\n",
            "Epoch 15/40\n",
            "130/130 [==============================] - 6s 45ms/step - loss: 0.1468 - accuracy: 0.9386 - val_loss: 0.0884 - val_accuracy: 0.9787\n",
            "Epoch 16/40\n",
            "130/130 [==============================] - 6s 43ms/step - loss: 0.1851 - accuracy: 0.9173 - val_loss: 0.3037 - val_accuracy: 0.7930\n",
            "Epoch 17/40\n",
            "130/130 [==============================] - 5s 41ms/step - loss: 0.3352 - accuracy: 0.8486 - val_loss: 0.3574 - val_accuracy: 0.8240\n",
            "Epoch 18/40\n",
            "130/130 [==============================] - 5s 38ms/step - loss: 0.2603 - accuracy: 0.8858 - val_loss: 0.1671 - val_accuracy: 0.9362\n",
            "Epoch 19/40\n",
            "130/130 [==============================] - 5s 39ms/step - loss: 0.2908 - accuracy: 0.8834 - val_loss: 0.1717 - val_accuracy: 0.9536\n",
            "Epoch 20/40\n",
            "130/130 [==============================] - 5s 39ms/step - loss: 0.2621 - accuracy: 0.9168 - val_loss: 0.2061 - val_accuracy: 0.9246\n",
            "Epoch 21/40\n",
            "130/130 [==============================] - 5s 36ms/step - loss: 0.2419 - accuracy: 0.9144 - val_loss: 0.1422 - val_accuracy: 0.9652\n",
            "Epoch 22/40\n",
            "130/130 [==============================] - 4s 34ms/step - loss: 0.2248 - accuracy: 0.9207 - val_loss: 0.0854 - val_accuracy: 0.9787\n",
            "Epoch 23/40\n",
            "130/130 [==============================] - 7s 51ms/step - loss: 0.2766 - accuracy: 0.8926 - val_loss: 0.1142 - val_accuracy: 0.9691\n",
            "Epoch 24/40\n",
            "130/130 [==============================] - 6s 46ms/step - loss: 0.2207 - accuracy: 0.9173 - val_loss: 0.1556 - val_accuracy: 0.9284\n",
            "Epoch 25/40\n",
            "130/130 [==============================] - 9s 66ms/step - loss: 0.2646 - accuracy: 0.9003 - val_loss: 0.1069 - val_accuracy: 0.9516\n",
            "Epoch 26/40\n",
            "130/130 [==============================] - 5s 41ms/step - loss: 0.2943 - accuracy: 0.8955 - val_loss: 0.1829 - val_accuracy: 0.9284\n",
            "Epoch 27/40\n",
            "130/130 [==============================] - 6s 47ms/step - loss: 0.2859 - accuracy: 0.8979 - val_loss: 0.1896 - val_accuracy: 0.9304\n",
            "Epoch 28/40\n",
            "130/130 [==============================] - 6s 49ms/step - loss: 0.2803 - accuracy: 0.9042 - val_loss: 0.1277 - val_accuracy: 0.9497\n",
            "Epoch 29/40\n",
            "130/130 [==============================] - 6s 44ms/step - loss: 0.2503 - accuracy: 0.9134 - val_loss: 0.1776 - val_accuracy: 0.9207\n",
            "Epoch 30/40\n",
            "130/130 [==============================] - 5s 41ms/step - loss: 0.2327 - accuracy: 0.9211 - val_loss: 0.1485 - val_accuracy: 0.9400\n",
            "Epoch 31/40\n",
            "130/130 [==============================] - 5s 40ms/step - loss: 0.1669 - accuracy: 0.9487 - val_loss: 0.0878 - val_accuracy: 0.9632\n",
            "Epoch 32/40\n",
            "130/130 [==============================] - 5s 40ms/step - loss: 0.1466 - accuracy: 0.9511 - val_loss: 0.5477 - val_accuracy: 0.8414\n",
            "Epoch 33/40\n",
            "130/130 [==============================] - 5s 37ms/step - loss: 0.2959 - accuracy: 0.9018 - val_loss: 0.1166 - val_accuracy: 0.9613\n",
            "Epoch 34/40\n",
            "130/130 [==============================] - 5s 36ms/step - loss: 0.1813 - accuracy: 0.9361 - val_loss: 0.1216 - val_accuracy: 0.9613\n",
            "Epoch 35/40\n",
            "130/130 [==============================] - 5s 38ms/step - loss: 0.1383 - accuracy: 0.9565 - val_loss: 0.0791 - val_accuracy: 0.9768\n",
            "Epoch 36/40\n",
            "130/130 [==============================] - 5s 38ms/step - loss: 0.1438 - accuracy: 0.9540 - val_loss: 0.0748 - val_accuracy: 0.9749\n",
            "Epoch 37/40\n",
            "130/130 [==============================] - 4s 33ms/step - loss: 0.1749 - accuracy: 0.9453 - val_loss: 0.1510 - val_accuracy: 0.9574\n",
            "Epoch 38/40\n",
            "130/130 [==============================] - 6s 43ms/step - loss: 0.2082 - accuracy: 0.9299 - val_loss: 0.1841 - val_accuracy: 0.9400\n",
            "Epoch 39/40\n",
            "130/130 [==============================] - 5s 41ms/step - loss: 0.1704 - accuracy: 0.9463 - val_loss: 0.1134 - val_accuracy: 0.9594\n",
            "Epoch 40/40\n",
            "130/130 [==============================] - 6s 44ms/step - loss: 0.1313 - accuracy: 0.9589 - val_loss: 0.0907 - val_accuracy: 0.9710\n"
          ]
        }
      ],
      "source": [
        "ann_model.compile(optimizer = 'adam', loss = 'categorical_crossentropy',metrics = ['accuracy'])\n",
        "hist = ann_model.fit(X_train,y_train,epochs = 40,batch_size=16,verbose = True,validation_split = 0.2)"
      ]
    },
    {
      "cell_type": "code",
      "execution_count": null,
      "id": "77412977",
      "metadata": {
        "id": "77412977",
        "outputId": "08a9b9da-3368-4959-debf-dbaaa14bac2e"
      },
      "outputs": [
        {
          "name": "stdout",
          "output_type": "stream",
          "text": [
            "21/21 [==============================] - 0s 6ms/step\n",
            "[[9.143e-07 2.516e-07 1.000e+00]\n",
            " [2.253e-10 3.178e-10 1.000e+00]\n",
            " [9.976e-01 1.079e-03 1.368e-03]\n",
            " ...\n",
            " [5.470e-07 1.201e-07 1.000e+00]\n",
            " [7.316e-12 2.699e-07 1.000e+00]\n",
            " [3.308e-10 5.828e-11 1.000e+00]]\n",
            "[2 2 0 2 2 2 1 1 1 2 1 1 1 1 1 2 0 2 1 2 2 1 1 0 2 2 1 2 2 2 1 0 1 2 2 2 2\n",
            " 0 2 2 2 2 2 2 1 1 2 2 0 0 2 0 2 1 2 1 0 2 2 2 1 1 2 1 2 0 2 2 0 2 1 0 1 0\n",
            " 1 1 1 2 1 2 1 0 2 2 1 2 0 2 0 1 2 1 1 2 0 2 1 1 2 2 2 2 0 2 0 1 0 1 1 2 1\n",
            " 2 1 1 2 0 2 2 2 1 2 2 0 2 1 2 1 2 2 2 1 2 2 0 0 1 2 2 1 1 0 1 2 1 2 1 1 1\n",
            " 1 1 1 2 2 0 2 0 1 2 1 2 0 2 1 1 2 2 2 2 2 1 0 1 2 1 1 2 1 2 1 2 0 2 1 0 1\n",
            " 1 0 1 2 2 2 0 1 0 1 1 2 1 2 2 2 2 1 1 0 2 1 2 0 2 0 2 1 2 1 0 1 1 1 2 2 2\n",
            " 2 2 2 2 0 1 0 1 1 1 0 2 1 1 2 1 1 1 2 2 2 1 1 0 0 2 1 2 2 0 2 0 2 2 2 1 2\n",
            " 2 0 1 2 2 1 1 1 2 0 2 2 1 2 2 2 2 1 2 1 2 1 0 1 2 2 2 1 2 0 1 1 1 1 2 2 2\n",
            " 2 2 2 0 1 2 2 1 2 2 2 0 1 2 0 1 1 1 1 2 0 0 1 2 1 0 1 1 1 2 2 0 0 1 1 2 1\n",
            " 2 1 2 0 0 1 0 0 2 0 2 2 1 1 2 0 1 2 0 1 2 2 1 1 1 0 2 2 1 2 1 2 0 0 0 1 2\n",
            " 2 2 1 1 0 1 1 0 1 1 1 1 0 0 2 2 0 2 1 1 0 1 1 2 2 2 2 0 2 2 0 2 1 2 2 0 2\n",
            " 0 2 2 2 1 2 2 2 2 2 1 2 2 2 0 1 1 2 2 2 2 1 2 1 2 1 1 1 1 1 1 2 2 2 0 2 2\n",
            " 1 0 2 0 0 0 2 1 2 2 2 2 2 0 1 1 2 1 1 2 2 2 1 1 0 2 1 1 0 1 2 1 2 2 2 2 1\n",
            " 0 0 1 0 2 1 1 1 2 2 1 1 2 1 1 1 2 1 1 2 1 1 2 2 2 1 1 2 0 2 0 2 2 2 0 0 0\n",
            " 0 0 1 0 1 1 2 2 2 2 2 2 0 0 2 1 1 2 1 2 1 1 1 0 2 2 0 1 2 1 2 2 2 1 1 1 1\n",
            " 1 2 2 2 0 1 2 2 2 0 0 1 2 2 0 1 2 1 1 0 0 2 2 2 0 2 1 1 1 2 2 1 0 1 2 1 2\n",
            " 1 0 0 2 0 1 1 2 1 2 1 2 1 0 0 1 1 2 2 2 1 2 1 2 2 2 0 1 0 1 2 0 2 2 2 2 2\n",
            " 0 2 1 2 2 0 0 1 2 2 2 1 1 0 2 2 2 2]\n",
            "Confusion matrix, without normalization\n",
            "[[115   8   5]\n",
            " [  5 223   7]\n",
            " [  2   0 282]]\n"
          ]
        },
        {
          "data": {
            "image/png": "[encoded data removed]",
            "text/plain": [
              "<Figure size 640x480 with 2 Axes>"
            ]
          },
          "metadata": {},
          "output_type": "display_data"
        }
      ],
      "source": [
        "# Predict model on Test Data\n",
        "\n",
        "Y_pred = ann_model.predict(X_test)\n",
        "print(Y_pred)\n",
        "\n",
        "# Printing the confusion matrix\n",
        "from sklearn.metrics import classification_report,confusion_matrix\n",
        "import itertools\n",
        "\n",
        "# Print the classes of the Prediction\n",
        "y_pred =  np.argmax(Y_pred, axis=1)\n",
        "print(y_pred)\n",
        "\n",
        "target_names = ['AMD', 'DME', 'Normal']\n",
        "\n",
        "# Plotting the confusion matrix\n",
        "def plot_confusion_matrix(cm, classes,\n",
        "                          normalize=False,\n",
        "                          title='Confusion matrix',\n",
        "                          cmap=plt.cm.Greens):\n",
        "    \"\"\"\n",
        "    This function prints and plots the confusion matrix.\n",
        "    Normalization can be applied by setting `normalize=True`.\n",
        "    \"\"\"\n",
        "    plt.imshow(cm, interpolation='nearest', cmap=cmap)\n",
        "    plt.title(title)\n",
        "    plt.colorbar()\n",
        "    tick_marks = np.arange(len(classes))\n",
        "    plt.xticks(tick_marks, classes, rotation=45)\n",
        "    plt.yticks(tick_marks, classes)\n",
        "\n",
        "    if normalize:\n",
        "        cm = cm.astype('float') / cm.sum(axis=1)[:, np.newaxis]\n",
        "        print(\"Normalized confusion matrix\")\n",
        "    else:\n",
        "        print('Confusion matrix, without normalization')\n",
        "\n",
        "    print(cm)\n",
        "    thresh = cm.max() / 2.\n",
        "    for i, j in itertools.product(range(cm.shape[0]), range(cm.shape[1])):\n",
        "        plt.text(j, i, cm[i, j],\n",
        "                     horizontalalignment=\"center\",\n",
        "                     color=\"white\" if cm[i, j] > thresh else \"black\")\n",
        "\n",
        "    plt.tight_layout()\n",
        "    plt.ylabel('True label')\n",
        "    plt.xlabel('Predicted label')\n",
        "#Computation  confusion matrix\n",
        "cnf_matrix = (confusion_matrix(np.argmax(y_test,axis=1), y_pred))\n",
        "\n",
        "np.set_printoptions(precision=3)\n",
        "\n",
        "plt.figure()\n",
        "\n",
        "\n",
        "\n",
        "# Plotting non-normalized confusion matrix\n",
        "plot_confusion_matrix(cnf_matrix, classes=target_names,\n",
        "                      title='Confusion matrix')\n",
        "plt.show()\n"
      ]
    },
    {
      "cell_type": "code",
      "execution_count": null,
      "id": "00c221e7",
      "metadata": {
        "id": "00c221e7",
        "outputId": "95f17a05-267d-4f36-ceb1-381382bb30b8"
      },
      "outputs": [
        {
          "name": "stdout",
          "output_type": "stream",
          "text": [
            "Random Forest Accuracy: 97.68%\n"
          ]
        }
      ],
      "source": [
        "import numpy as np\n",
        "from sklearn.ensemble import RandomForestClassifier\n",
        "\n",
        "# Reshape the image data for Random Forest model\n",
        "X_train_rf = X_train.reshape(X_train.shape[0], -1)\n",
        "X_test_rf = X_test.reshape(X_test.shape[0], -1)\n",
        "\n",
        "# Flatten the image data for Random Forest model\n",
        "X_train_rf = X_train_rf.reshape(X_train_rf.shape[0], -1)\n",
        "X_test_rf = X_test_rf.reshape(X_test_rf.shape[0], -1)\n",
        "\n",
        "# Create a Random Forest classifier\n",
        "rf_model = RandomForestClassifier(n_estimators=100, random_state=42)\n",
        "\n",
        "# Train the Random Forest model\n",
        "rf_model.fit(X_train_rf, y_train)\n",
        "\n",
        "# Predict using the trained Random Forest model\n",
        "y_pred_rf = rf_model.predict(X_test_rf)\n",
        "\n",
        "# Evaluate the Random Forest model\n",
        "rf_accuracy = np.mean(y_pred_rf == y_test) * 100\n",
        "print(\"Random Forest Accuracy: {:.2f}%\".format(rf_accuracy))\n"
      ]
    },
    {
      "cell_type": "code",
      "execution_count": null,
      "id": "1258ae12",
      "metadata": {
        "id": "1258ae12",
        "outputId": "211f9943-8cf9-4a58-efdd-64ff00eb225e"
      },
      "outputs": [
        {
          "data": {
            "image/png": "[encoded data removed]",
            "text/plain": [
              "<Figure size 800x600 with 2 Axes>"
            ]
          },
          "metadata": {},
          "output_type": "display_data"
        }
      ],
      "source": [
        "import seaborn as sns\n",
        "import matplotlib.pyplot as plt\n",
        "from sklearn.metrics import confusion_matrix\n",
        "\n",
        "# Calculate the confusion matrix\n",
        "cm = confusion_matrix(np.argmax(y_test, axis=1).reshape(-1), np.argmax(y_pred_rf, axis=1).reshape(-1))\n",
        "\n",
        "# Define class labels and target names\n",
        "class_labels = ['AMD', 'DME', 'NORMAL']\n",
        "target_names = ['AMD', 'DME', 'Normal']\n",
        "\n",
        "# Create a heatmap for the confusion matrix\n",
        "plt.figure(figsize=(8, 6))\n",
        "sns.heatmap(cm, annot=True, fmt='d', cmap='Greens', xticklabels=target_names, yticklabels=target_names)\n",
        "plt.title('Confusion Matrix')\n",
        "plt.xlabel('Predicted')\n",
        "plt.ylabel('True')\n",
        "plt.show()\n"
      ]
    },
    {
      "cell_type": "code",
      "execution_count": null,
      "id": "e3656f82",
      "metadata": {
        "id": "e3656f82",
        "outputId": "080c9bd2-0390-485b-bf53-cf6a6941ce96"
      },
      "outputs": [
        {
          "name": "stdout",
          "output_type": "stream",
          "text": [
            "              precision    recall  f1-score   support\n",
            "\n",
            "         AMD       0.94      0.90      0.92       128\n",
            "         DME       0.97      0.95      0.96       235\n",
            "      Normal       0.96      0.99      0.98       284\n",
            "\n",
            "    accuracy                           0.96       647\n",
            "   macro avg       0.96      0.95      0.95       647\n",
            "weighted avg       0.96      0.96      0.96       647\n",
            "\n"
          ]
        }
      ],
      "source": [
        "from sklearn.metrics import classification_report\n",
        "#reversing one hot encoding\n",
        "a = np.array(y_test)\n",
        "import pandas as pd\n",
        "df= pd.DataFrame({\"0\":a[:,0],\"1\":a[:,1],\"2\":a[:,2]})\n",
        "df['tags']=''\n",
        "for col_name in df.columns:\n",
        "    df.loc[df[col_name]==1,'tags']= df['tags']+' '+col_name\n",
        "\n",
        "\n",
        "df['tags'] = df['tags'].astype(int)\n",
        "print(classification_report(df['tags'], y_pred, target_names=target_names))\n"
      ]
    },
    {
      "cell_type": "code",
      "execution_count": null,
      "id": "e9418538",
      "metadata": {
        "id": "e9418538"
      },
      "outputs": [],
      "source": []
    },
    {
      "cell_type": "code",
      "execution_count": null,
      "id": "619172b5",
      "metadata": {
        "id": "619172b5"
      },
      "outputs": [],
      "source": []
    }
  ],
  "metadata": {
    "kernelspec": {
      "display_name": "Python 3 (ipykernel)",
      "language": "python",
      "name": "python3"
    },
    "language_info": {
      "codemirror_mode": {
        "name": "ipython",
        "version": 3
      },
      "file_extension": ".py",
      "mimetype": "text/x-python",
      "name": "python",
      "nbconvert_exporter": "python",
      "pygments_lexer": "ipython3",
      "version": "3.10.9"
    },
    "colab": {
      "provenance": []
    }
  },
  "nbformat": 4,
  "nbformat_minor": 5
}